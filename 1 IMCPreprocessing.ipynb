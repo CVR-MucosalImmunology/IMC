{
 "cells": [
  {
   "cell_type": "code",
   "execution_count": 1,
   "id": "15982f7e-3379-46de-9baf-c033bf3c3eac",
   "metadata": {},
   "outputs": [],
   "source": [
    "# Regular expression to select files\n",
    "file_regex = \"*Sample*.zip\""
   ]
  },
  {
   "cell_type": "code",
   "execution_count": 2,
   "id": "44e80547-bf30-4a80-85ed-ae02a5312c4b",
   "metadata": {},
   "outputs": [
    {
     "name": "stderr",
     "output_type": "stream",
     "text": [
      "c:\\Users\\oscar\\anaconda3\\envs\\imcsegpipe\\lib\\site-packages\\readimc\\mcd_parser.py:131: UserWarning: Slide 0 corrupted: overlapping memory blocks for acquisitions 1 and 2\n",
      "  warn(\n"
     ]
    }
   ],
   "source": [
    "# Import libraries\n",
    "from pathlib import Path\n",
    "from tempfile import TemporaryDirectory\n",
    "from typing import List\n",
    "import pandas as pd\n",
    "import imcsegpipe\n",
    "from imcsegpipe.utils import sort_channels_by_mass\n",
    "\n",
    "# Working directory storing all outputs\n",
    "work_dir = Path(\"analysis\")\n",
    "work_dir.mkdir(exist_ok=True)\n",
    "\n",
    "# Set and create output directories\n",
    "acquisitions_dir = work_dir / \"extracted_mcd\"\n",
    "segment_dir = work_dir / \"for_segmentation\"\n",
    "output_dir = work_dir / \"full_images\"\n",
    "acquisitions_dir.mkdir(exist_ok=True)\n",
    "segment_dir.mkdir(exist_ok=True)\n",
    "output_dir.mkdir(exist_ok=True)\n",
    "\n",
    "# Extract .mcd files to 'extracted_mcd' folder\n",
    "temp_dirs = []\n",
    "try:\n",
    "    for raw_dir in [Path(\"raw\")]:\n",
    "        zip_files = list(raw_dir.rglob(file_regex))\n",
    "        if len(zip_files) > 0:\n",
    "            temp_dir = TemporaryDirectory()\n",
    "            temp_dirs.append(temp_dir)\n",
    "            for zip_file in sorted(zip_files):\n",
    "                imcsegpipe.extract_zip_file(zip_file, temp_dir.name)\n",
    "    acquisition_metadatas = []\n",
    "    for raw_dir in [Path(\"raw\")] + [Path(temp_dir.name) for temp_dir in temp_dirs]:\n",
    "        mcd_files = list(raw_dir.rglob(\"*.mcd\"))\n",
    "        mcd_files = [(i) for i in mcd_files if not i.stem.startswith('.')]\n",
    "        if len(mcd_files) > 0:\n",
    "            txt_files = list(raw_dir.rglob(\"*.txt\"))\n",
    "            txt_files = [(i) for i in txt_files if not i.stem.startswith('.')]\n",
    "            matched_txt_files = imcsegpipe.match_txt_files(mcd_files, txt_files)\n",
    "            for mcd_file in mcd_files:\n",
    "                imcsegpipe.extract_mcd_file(\n",
    "                    mcd_file,\n",
    "                    acquisitions_dir / mcd_file.stem,\n",
    "                    txt_files=matched_txt_files[mcd_file]\n",
    "                )\n",
    "finally:\n",
    "    for temp_dir in temp_dirs:\n",
    "        temp_dir.cleanup()\n",
    "    del temp_dirs\n",
    "\n",
    "# Generate image stacks containing all channels (_full) and only channels for segmentation (_segment)\n",
    "panel = pd.read_csv(\"raw/panel.csv\")\n",
    "for acquisition_dir in acquisitions_dir.glob(\"[!.]*\"):\n",
    "    if acquisition_dir.is_dir():\n",
    "        imcsegpipe.create_analysis_stacks(\n",
    "            acquisition_dir=acquisition_dir,\n",
    "            analysis_dir=output_dir,\n",
    "            analysis_channels=sort_channels_by_mass(\n",
    "                panel.loc[panel[\"Full\"] == 1, \"Metal Tag\"].tolist()\n",
    "            ),\n",
    "            suffix=\"_full\",\n",
    "            hpf=50.0\n",
    "        )\n",
    "        imcsegpipe.create_analysis_stacks(\n",
    "            acquisition_dir=acquisition_dir,\n",
    "            analysis_dir=segment_dir,\n",
    "            analysis_channels=sort_channels_by_mass(\n",
    "                panel.loc[panel[\"Segment\"] == 1, \"Metal Tag\"].tolist()\n",
    "            ),\n",
    "            suffix=\"_segment\",\n",
    "            hpf=50.0\n",
    "        )"
   ]
  }
 ],
 "metadata": {
  "kernelspec": {
   "display_name": "Python 3 (ipykernel)",
   "language": "python",
   "name": "python3"
  },
  "language_info": {
   "codemirror_mode": {
    "name": "ipython",
    "version": 3
   },
   "file_extension": ".py",
   "mimetype": "text/x-python",
   "name": "python",
   "nbconvert_exporter": "python",
   "pygments_lexer": "ipython3",
   "version": "3.9.18"
  }
 },
 "nbformat": 4,
 "nbformat_minor": 5
}
