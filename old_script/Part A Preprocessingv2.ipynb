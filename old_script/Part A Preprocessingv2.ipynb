{
 "cells": [
  {
   "cell_type": "markdown",
   "metadata": {},
   "source": [
    "# Part A: Preprocessing\n",
    "\n",
    "### **Authors:** oscardong4@gmail.com, thomas.oneil@sydney.edu.au & heeva.baharlou@sydney.edu.com (Dec 2024) - script adapted from [here](https://github.com/BodenmillerGroup/ImcSegmentationPipeline/blob/main/scripts/imc_preprocessing.ipynb)\n",
    "\n",
    "To fill in extra info\n",
    "\n",
    "\n",
    "## Order of the analysis\n",
    "0. Set up\n",
    "1. MCD extraction\n",
    "2. Cellpose prep\n",
    "3. Cellpose model training\n",
    "4. Cellpose batch segmentation\n",
    "5. Feature Extraction"
   ]
  },
  {
   "cell_type": "markdown",
   "metadata": {},
   "source": [
    "# 0 Set up\n",
    "\n",
    "Anaconda is a program used to install packages needed for many steps of the pipeline to run. Follow the steps below to set up Anaconda and a `conda` environment:\n",
    "\n",
    "**Step 1:** Install [**Anaconda** ](https://www.anaconda.com/download) <br>\n",
    "**Step 2:** Once Anaconda is installed, navigate to the relevant command line interface:\n",
    "\n",
    "<div align=\"center\">\n",
    "\n",
    "| Windows                                                                                            | macOS                                                                                                      |\n",
    "|----------------------------------------------------------------------------------------------------|------------------------------------------------------------------------------------------------------------|\n",
    "| 1. Search for **'Anaconda Prompt'** in the taskbar search <br> 2. Select **Anaconda Prompt**  <br> | 1. Use `cmd + space` to open Spotlight Search  <br> 2. Type **'Terminal'** and press `return` to open <br> |\n",
    "\n",
    "</div>\n",
    "\n",
    "  \n",
    "**Step 3:** Set your directory to the project folder (and make folders)\n"
   ]
  },
  {
   "cell_type": "code",
   "execution_count": null,
   "metadata": {
    "vscode": {
     "languageId": "powershell"
    }
   },
   "outputs": [],
   "source": [
    "cd /Desktop/ImageAnalysis"
   ]
  },
  {
   "cell_type": "markdown",
   "metadata": {},
   "source": [
    "**Step 4:** Clone the IMComplete repository."
   ]
  },
  {
   "cell_type": "code",
   "execution_count": null,
   "metadata": {
    "vscode": {
     "languageId": "shellscript"
    }
   },
   "outputs": [],
   "source": [
    "git clone --recursive https://github.com/CVR-MucosalImmunology/IMComplete-Workflow.git\n",
    "conda env create -f dev_IMComplete-Workflow/environment.yml\n",
    "conda activate IMComplete\n",
    "git clone -- recursive https://github.com/BodenmillerGroup/ImcSegmentationPipeline.git\n",
    "python -m pip install -e ./ImcSegmentationPipeline"
   ]
  },
  {
   "cell_type": "code",
   "execution_count": null,
   "metadata": {
    "vscode": {
     "languageId": "shellscript"
    }
   },
   "outputs": [],
   "source": [
    "conda install pytorch==2.4.1 torchvision==0.19.1 torchaudio==2.4.1 pytorch-cuda=12.4 -c pytorch -c nvidia"
   ]
  },
  {
   "cell_type": "code",
   "execution_count": null,
   "metadata": {
    "vscode": {
     "languageId": "shellscript"
    }
   },
   "outputs": [],
   "source": [
    "python -m pip install PyQt5 cellpose[gui] tensorflow keras"
   ]
  },
  {
   "cell_type": "code",
   "execution_count": 1,
   "metadata": {},
   "outputs": [
    {
     "name": "stdout",
     "output_type": "stream",
     "text": [
      "True\n"
     ]
    }
   ],
   "source": [
    "import torch\n",
    "\n",
    "print(torch.cuda.is_available())\n"
   ]
  },
  {
   "cell_type": "code",
   "execution_count": null,
   "metadata": {},
   "outputs": [],
   "source": [
    "import os\n",
    "\n",
    "projdir = \"D:\\Dev-IMComplete\\Example\"\n",
    "\n",
    "os.makedirs(os.path.join(projdir ,\"raw\"), exist_ok=True)\n",
    "os.makedirs(os.path.join(projdir , \"analysis\"), exist_ok=True)\n",
    " "
   ]
  },
  {
   "cell_type": "markdown",
   "metadata": {},
   "source": [
    "# MCD extraction\n",
    "\n",
    "**MCD extraction**  \n",
    "<span style=\"color:grey; opacity: 0.5\">Cellpose prep</span>  \n",
    "<span style=\"color:grey; opacity: 0.5\">Cellpose model training</span>  \n",
    "<span style=\"color:grey; opacity: 0.5\">Cellpose batch segmentation</span>    \n",
    "<span style=\"color:grey; opacity: 0.5\">Feature Extraction</span>    "
   ]
  },
  {
   "cell_type": "code",
   "execution_count": 17,
   "metadata": {},
   "outputs": [],
   "source": [
    "denoise= True\n",
    "\n",
    "projdir = \"D:\\Dev-IMComplete\\Example\"\n"
   ]
  },
  {
   "cell_type": "code",
   "execution_count": 10,
   "metadata": {},
   "outputs": [
    {
     "name": "stdout",
     "output_type": "stream",
     "text": [
      "Done!\n"
     ]
    }
   ],
   "source": [
    "# Import libraries\n",
    "from pathlib import Path\n",
    "from tempfile import TemporaryDirectory\n",
    "import pandas as pd\n",
    "import tifffile as tiff\n",
    "import numpy as np\n",
    "import imcsegpipe\n",
    "from imcsegpipe.utils import sort_channels_by_mass\n",
    "import os\n",
    "\n",
    "os.makedirs(os.path.join(projdir ,\"raw\"), exist_ok=True)\n",
    "os.makedirs(os.path.join(projdir , \"analysis\"), exist_ok=True)\n",
    "\n",
    "os.chdir(projdir)\n",
    "\n",
    "# Set and create output directories\n",
    "acquisitions_dir = os.path.join(projdir, \"analysis/1_mcd_out\")\n",
    "denoise_dir = os.path.join(projdir, \"analysis/2_denoise\")\n",
    "segment_fold_dir = os.path.join(projdir, \"analysis/3_segmentation\")\n",
    "segment_dir = os.path.join(segment_fold_dir, \"3b_forSeg\")\n",
    "output_dir = os.path.join(segment_fold_dir, \"3a_fullstack\")\n",
    "\n",
    "\n",
    "os.makedirs(acquisitions_dir,exist_ok=True)\n",
    "os.makedirs(denoise_dir,exist_ok=True)\n",
    "os.makedirs(segment_fold_dir,exist_ok=True)\n",
    "os.makedirs(segment_dir,exist_ok=True)\n",
    "os.makedirs(output_dir,exist_ok=True)\n",
    "\n",
    "acquisitions_dir = Path(acquisitions_dir)\n",
    "denoise_dir = Path(denoise_dir)\n",
    "segment_fold_dir = Path(segment_fold_dir)\n",
    "segment_dir = Path(segment_dir)\n",
    "output_dir = Path(output_dir)\n",
    "\n",
    "# Raw directory with raw data files\n",
    "raw = Path(os.path.join(projdir ,\"raw\"))\n",
    "\n",
    "# Step 1: Extract .mcd files\n",
    "temp_dirs = []\n",
    "try:\n",
    "    for raw_dir in [raw]:\n",
    "        zip_files = list(raw_dir.rglob(\"**/*.zip\"))\n",
    "        if len(zip_files) > 0:\n",
    "            temp_dir = TemporaryDirectory()\n",
    "            temp_dirs.append(temp_dir)\n",
    "            for zip_file in sorted(zip_files):\n",
    "                imcsegpipe.extract_zip_file(zip_file, temp_dir.name)\n",
    "    for raw_dir in [raw] + [Path(temp_dir.name) for temp_dir in temp_dirs]:\n",
    "        mcd_files = list(raw_dir.rglob(\"*.mcd\"))\n",
    "        mcd_files = [i for i in mcd_files if not i.stem.startswith('.')]\n",
    "        if len(mcd_files) > 0:\n",
    "            txt_files = list(raw_dir.rglob(\"*.txt\"))\n",
    "            txt_files = [i for i in txt_files if not i.stem.startswith('.')]\n",
    "            matched_txt_files = imcsegpipe.match_txt_files(mcd_files, txt_files)\n",
    "            for mcd_file in mcd_files:\n",
    "                imcsegpipe.extract_mcd_file(\n",
    "                    mcd_file,\n",
    "                    acquisitions_dir / mcd_file.stem,\n",
    "                    txt_files=matched_txt_files[mcd_file]\n",
    "                )\n",
    "finally:\n",
    "    for temp_dir in temp_dirs:\n",
    "        temp_dir.cleanup()\n",
    "    del temp_dirs\n",
    "\n",
    "# Read the panel.csv\n",
    "panel = pd.read_csv(\"panel.csv\")\n",
    "\n",
    "# Step 2: Generate image stacks (_full and _segment)\n",
    "for acquisition_dir in acquisitions_dir.glob(\"[!.]*\"):\n",
    "    if acquisition_dir.is_dir():\n",
    "        imcsegpipe.create_analysis_stacks(\n",
    "            acquisition_dir=acquisition_dir,\n",
    "            analysis_dir=output_dir,\n",
    "            analysis_channels=sort_channels_by_mass(\n",
    "                panel.loc[panel[\"Full\"] == 1, \"Metal Tag\"].tolist()\n",
    "            ),\n",
    "            suffix=\"_full\",\n",
    "            hpf=50.0\n",
    "        )\n",
    "        imcsegpipe.create_analysis_stacks(\n",
    "            acquisition_dir=acquisition_dir,\n",
    "            analysis_dir=segment_dir,\n",
    "            analysis_channels=sort_channels_by_mass(\n",
    "                panel.loc[panel[\"Segment\"] == 1, \"Metal Tag\"].tolist()\n",
    "            ),\n",
    "            suffix=\"_segment\",\n",
    "            hpf=50.0\n",
    "        )\n",
    "\n",
    "# Step 3: Process TIFFs for denoising\n",
    "if denoise:\n",
    "    for sample_dir in acquisitions_dir.glob(\"[!.]*\"):\n",
    "        if sample_dir.is_dir():\n",
    "            for roi_tiff_path in sample_dir.glob(\"*.tiff\"):\n",
    "                roi_name = roi_tiff_path.stem\n",
    "                roi_subdir = denoise_dir / roi_name\n",
    "                roi_subdir.mkdir(parents=True, exist_ok=True)\n",
    "\n",
    "                # Load the stack using tifffile\n",
    "                with tiff.TiffFile(roi_tiff_path) as tif:\n",
    "                    stack = tif.asarray()  # Load the entire TIFF stack as a NumPy array\n",
    "\n",
    "                # Filter and unstack based on panel.csv\n",
    "                for idx, row in panel[panel[\"Full\"] == 1].iterrows():\n",
    "                    metal_tag = row[\"Metal Tag\"]\n",
    "                    target = row[\"Target\"]\n",
    "                    output_name = f\"{metal_tag}-{target}_{metal_tag}.tiff\"\n",
    "                    output_path = roi_subdir / output_name\n",
    "\n",
    "                    # Extract the specific slice from the stack\n",
    "                    slice_image = stack[idx, :, :]  # Adjust indexing based on stack structure\n",
    "\n",
    "                    # Save the slice as a TIFF\n",
    "                    tiff.imwrite(output_path, slice_image.astype(np.uint16))  # Save as 16-bit TIFF\n",
    "\n",
    "print(\"Done!\")\n"
   ]
  },
  {
   "cell_type": "markdown",
   "metadata": {},
   "source": [
    "# Cellpose preparation\n",
    "\n",
    "<strike>MCD extraction</strike>  \n",
    "**Cellpose prep**  \n",
    "<span style=\"color:grey; opacity: 0.5\">Cellpose model training</span>  \n",
    "<span style=\"color:grey; opacity: 0.5\">Cellpose batch segmentation</span>    \n",
    "<span style=\"color:grey; opacity: 0.5\">Feature Extraction</span>    \n",
    "\n",
    "Set your variables before running. Identify the `DNA` channel and the `square size` (in pixels) you want to use for cellpose training"
   ]
  },
  {
   "cell_type": "code",
   "execution_count": 12,
   "metadata": {},
   "outputs": [],
   "source": [
    "dna = \"DNA\"\n",
    "square_size = 200"
   ]
  },
  {
   "cell_type": "code",
   "execution_count": null,
   "metadata": {},
   "outputs": [],
   "source": [
    "import os\n",
    "import random\n",
    "import numpy as np\n",
    "import pandas as pd\n",
    "from skimage import io, exposure, img_as_uint\n",
    "\n",
    "os.chdir(projdir)\n",
    "\n",
    "# Define directories\n",
    "dir_images =  os.path.join(projdir,\"analysis\",\"3_segmentation\",\"3b_forSeg\")\n",
    "im_output =  os.path.join(projdir,\"analysis\",\"3_segmentation\",\"3c_cellpose_full\")\n",
    "crop_output =  os.path.join(projdir,\"analysis\",\"3_segmentation\",\"3d_cellpose_crop\")\n",
    "panel_file = os.path.join(projdir,\"panel.csv\")\n",
    "\n",
    "# Create output directories\n",
    "os.makedirs(im_output, exist_ok=True)\n",
    "os.makedirs(crop_output, exist_ok=True)\n",
    "\n",
    "# load image list\n",
    "image_list = [f for f in os.listdir(dir_images) if f.endswith(('.tiff', '.tif'))]\n",
    "\n",
    "# read panel\n",
    "panel = pd.read_csv(panel_file)\n",
    "segmentation_targets = panel.loc[panel['Segment'] == 1, 'Target'].tolist()\n",
    "print(\"Segmentation Targets:\", segmentation_targets)\n",
    "\n",
    "# get indices of dna channel\n",
    "dna_index = [i for i, target in enumerate(segmentation_targets) if target == dna]\n",
    "\n",
    "# crop and compress each image\n",
    "for image_file in image_list:\n",
    "    image_path = os.path.join(dir_images, image_file)\n",
    "    image = io.imread(image_path)\n",
    "    im_title = os.path.splitext(image_file)[0]\n",
    "    \n",
    "    # normalise\n",
    "    normalized_stack = []\n",
    "    for i in range(image.shape[0]): \n",
    "        channel = image[i, :, :]\n",
    "        normalized = exposure.rescale_intensity(channel, in_range='image', out_range=(0, 1))\n",
    "        normalized_stack.append(img_as_uint(normalized))\n",
    "    normalized_stack = np.stack(normalized_stack)\n",
    "    \n",
    "    # get dna channel\n",
    "    if dna_index:\n",
    "        # keep only the first instance of dna\n",
    "        dna_channel = normalized_stack[dna_index[0]]\n",
    "        \n",
    "        # remove dna from segmentation stack\n",
    "        for idx in sorted(dna_index, reverse=True):\n",
    "            normalized_stack = np.delete(normalized_stack, idx, axis=0)\n",
    "    else: #error message if dna not found\n",
    "        raise ValueError(\"DNA channel not found in segmentation targets.\")\n",
    "    \n",
    "    # create mask for surface segmentation\n",
    "    surface_mask = np.mean(normalized_stack, axis=0).astype(np.uint16)\n",
    "    \n",
    "    # create empty channel - for cellpose colour scheme to avoid red/green and combine in order empty > segment > dna\n",
    "    empty_channel = np.zeros_like(dna_channel, dtype=np.uint16)\n",
    "    # empty -> surface mask -> DNA\n",
    "    composite_stack = np.stack([empty_channel, surface_mask, dna_channel])\n",
    "    \n",
    "    # save\n",
    "    im_output_path = os.path.join(im_output, f\"{im_title}_CpSeg.tiff\")\n",
    "    io.imsave(im_output_path, composite_stack)\n",
    "    \n",
    "    # get crop dimensions\n",
    "    height, width = composite_stack.shape[1:3]\n",
    "    if width < square_size or height < square_size:\n",
    "        # if image is smaller than crop size, save image itself as the crop\n",
    "        crop_output_path = os.path.join(crop_output, f\"{im_title}_CpCrop.tiff\")\n",
    "        io.imsave(crop_output_path, composite_stack)\n",
    "        print(f\"Image {im_title} is smaller than the cropping size. Saved without cropping.\")\n",
    "        continue\n",
    "\n",
    "    # create the crop and save\n",
    "    workable_x = width - square_size\n",
    "    workable_y = height - square_size\n",
    "    rand_x = random.randint(0, workable_x)\n",
    "    rand_y = random.randint(0, workable_y)\n",
    "    cropped = composite_stack[:, rand_y:rand_y + square_size, rand_x:rand_x + square_size]\n",
    "    crop_output_path = os.path.join(crop_output, f\"{im_title}_CpCrop.tiff\")\n",
    "    io.imsave(crop_output_path, cropped)\n",
    "print(\"Done!\")"
   ]
  },
  {
   "cell_type": "markdown",
   "metadata": {},
   "source": [
    "# Cell pose "
   ]
  },
  {
   "cell_type": "code",
   "execution_count": null,
   "metadata": {},
   "outputs": [],
   "source": [
    "python -m cellpose"
   ]
  },
  {
   "cell_type": "code",
   "execution_count": 20,
   "metadata": {},
   "outputs": [],
   "source": [
    "# Set your required variables here\n",
    "model_path = \"D:\\Dev-IMComplete\\IFMasksOnIMCModel_HumanColon_TN3_CD12_FT1\"\n",
    "channels = [2, 3] # This means Channel 1 was 'Green' and Channel 2 was 'Blue' (1 = R, 2 = G, 3 = B)\n",
    "cell_diameter = 12.4\n",
    "flow_threshold = 3\n",
    "cellprob_threshold = -6"
   ]
  },
  {
   "cell_type": "code",
   "execution_count": 23,
   "metadata": {},
   "outputs": [
    {
     "name": "stdout",
     "output_type": "stream",
     "text": [
      "2024-12-18 16:58:42,067 [INFO] ** TORCH CUDA version installed and working. **\n",
      "2024-12-18 16:58:42,070 [INFO] ** TORCH CUDA version installed and working. **\n",
      "2024-12-18 16:58:42,071 [INFO] >>>> using GPU (CUDA)\n",
      "2024-12-18 16:58:42,249 [INFO] >>>> loading model D:\\Dev-IMComplete\\IFMasksOnIMCModel_HumanColon_TN3_CD12_FT1\n",
      "2024-12-18 16:58:42,396 [INFO] >>>> model diam_mean =  30.000 (ROIs rescaled to this size during training)\n",
      "2024-12-18 16:58:42,396 [INFO] >>>> model diam_labels =  9.655 (mean diameter of training ROIs)\n",
      "creating new log file\n",
      "2024-12-18 16:58:42,398 [INFO] WRITING LOG OUTPUT TO C:\\Users\\daniel.buffa\\.cellpose\\run.log\n",
      "2024-12-18 16:58:42,398 [INFO] \n",
      "cellpose version: \t3.1.0 \n",
      "platform:       \twin32 \n",
      "python version: \t3.10.16 \n",
      "torch version:  \t2.5.0\n",
      "2024-12-18 16:58:42,411 [INFO] 0%|          | 0/7 [00:00<?, ?it/s]\n",
      "2024-12-18 16:58:58,208 [INFO] 100%|##########| 7/7 [00:15<00:00,  2.26s/it]\n",
      "Done!\n"
     ]
    },
    {
     "name": "stderr",
     "output_type": "stream",
     "text": [
      "C:\\Users\\daniel.buffa\\AppData\\Local\\Temp\\ipykernel_13972\\3156993064.py:32: UserWarning: D:\\Dev-IMComplete\\Example\\analysis\\3_segmentation\\3d_cellpose_mask\\20221221_Batch2Ori_COL83Ori_s0_a3_ac_segment_CpSeg_mask.tif is a low contrast image\n",
      "  skimage.io.imsave(new_path, mask)\n",
      "C:\\Users\\daniel.buffa\\AppData\\Local\\Temp\\ipykernel_13972\\3156993064.py:32: UserWarning: D:\\Dev-IMComplete\\Example\\analysis\\3_segmentation\\3d_cellpose_mask\\20221221_Batch2Ori_COL83Ori_s0_a4_ac_segment_CpSeg_mask.tif is a low contrast image\n",
      "  skimage.io.imsave(new_path, mask)\n",
      "C:\\Users\\daniel.buffa\\AppData\\Local\\Temp\\ipykernel_13972\\3156993064.py:32: UserWarning: D:\\Dev-IMComplete\\Example\\analysis\\3_segmentation\\3d_cellpose_mask\\20221221_Batch2Ori_COL83Ori_s0_a5_ac_segment_CpSeg_mask.tif is a low contrast image\n",
      "  skimage.io.imsave(new_path, mask)\n",
      "C:\\Users\\daniel.buffa\\AppData\\Local\\Temp\\ipykernel_13972\\3156993064.py:32: UserWarning: D:\\Dev-IMComplete\\Example\\analysis\\3_segmentation\\3d_cellpose_mask\\20221221_Batch2Ori_COL83Ori_s0_a6_ac_segment_CpSeg_mask.tif is a low contrast image\n",
      "  skimage.io.imsave(new_path, mask)\n",
      "C:\\Users\\daniel.buffa\\AppData\\Local\\Temp\\ipykernel_13972\\3156993064.py:32: UserWarning: D:\\Dev-IMComplete\\Example\\analysis\\3_segmentation\\3d_cellpose_mask\\20221221_Batch2Ori_COL83Ori_s0_a7_ac_segment_CpSeg_mask.tif is a low contrast image\n",
      "  skimage.io.imsave(new_path, mask)\n"
     ]
    }
   ],
   "source": [
    "# Import libraries\n",
    "import os\n",
    "import skimage.io\n",
    "from cellpose import models, core\n",
    "from cellpose.io import logger_setup\n",
    "import shutil\n",
    "from pathlib import Path\n",
    "\n",
    "# Define Cellpose model\n",
    "model = models.CellposeModel(gpu=core.use_gpu(), pretrained_model=model_path)\n",
    "\n",
    "# Set and create directories\n",
    "analysis = Path(projdir)\n",
    "image_dir = analysis / \"analysis/3_segmentation/3c_cellpose_full\"\n",
    "mask_dir = analysis / \"analysis/3_segmentation/3e_cellpose_mask\"\n",
    "os.makedirs(mask_dir, exist_ok=True)\n",
    "\n",
    "# Call logger_setup to have output of cellpose written\n",
    "logger_setup()\n",
    "\n",
    "# Get list of image files\n",
    "files = [os.path.join(image_dir, f) for f in os.listdir(image_dir) if f.endswith(\".tiff\")]  # Adjust the file extension if necessary\n",
    "imgs = [skimage.io.imread(f) for f in files]\n",
    "\n",
    "# Run segmentation\n",
    "masks, flows, styles = model.eval(imgs, diameter=cell_diameter, flow_threshold=flow_threshold, cellprob_threshold=cellprob_threshold, channels=channels)\n",
    "\n",
    "# Save mask images\n",
    "for idx, mask in enumerate(masks):\n",
    "    original_path = Path(files[idx])\n",
    "    new_path = mask_dir / (original_path.stem + \"_mask.tif\")\n",
    "    skimage.io.imsave(new_path, mask)\n",
    "\n",
    "\n",
    "cellp_out = analysis / \"analysis/4_cellprofiler_output\"\n",
    "cellp_out.mkdir(exist_ok=True)\n",
    "\n",
    "print(\"Done!\")\n"
   ]
  }
 ],
 "metadata": {
  "kernelspec": {
   "display_name": "IMComplete",
   "language": "python",
   "name": "python3"
  },
  "language_info": {
   "codemirror_mode": {
    "name": "ipython",
    "version": 3
   },
   "file_extension": ".py",
   "mimetype": "text/x-python",
   "name": "python",
   "nbconvert_exporter": "python",
   "pygments_lexer": "ipython3",
   "version": "3.10.16"
  }
 },
 "nbformat": 4,
 "nbformat_minor": 2
}
