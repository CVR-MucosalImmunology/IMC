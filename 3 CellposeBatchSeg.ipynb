{
 "cells": [
  {
   "cell_type": "markdown",
   "id": "28715985",
   "metadata": {},
   "source": [
    "###CellPoseBatchSeg###\n",
    "\n",
    "This script batch runs a pre-trained cell segmentation model from cellpose on a folder of images.\n",
    "These are usually the larger images from which crops were taken to train the model.\n",
    "Inputs: \n",
    "- segmentation model\n",
    "- images with nuclei in channel 1 and cellbody marker in channel 2 (out of running ExtractForCellPose.ijm)\n",
    "Outputs: \n",
    "- integer labelled cell segmentation masks. \n",
    "\n",
    "Instructions:\n",
    "1. Ensure this jupyter notebook is running in the cellpose environment in anaconda (see 'installation below').\n",
    "2. Ensure installation of imported packages (see 'installation below')\n",
    "3. Specify directories at beginning of script. \n",
    "4. Flow Thresholds\n",
    "4. Run on a a couple test images and (if desired) uncomment code under 'DISPLAY' to see the segmentation results. If processing many images best to leave this commented out to avoid jamming the image display in jupyter.\n",
    "5. Enjoy time saved. :)\n",
    "\n",
    "Installations:\n",
    "- In anaconda terminal, install and open jupyter within cellpose environment:\n",
    "    - `conda activate cellpose`\n",
    "    - `conda install jupyter`\n",
    "    - `pip install --upgrade requests jupyter`\n",
    "    - 'jupyter notebook'\n",
    "- In anaconda terminal (in activated cellpose environment), Install required modules:\n",
    "    - `pip install chardet`\n",
    "    - `pip install --upgrade charset-normalizer`\n",
    "    - `conda install -c anaconda numpy`\n",
    "    - `conda install -c conda-forge scikit-image`\n",
    "    - `conda install -c conda-forge matplotlib`\n",
    "\n",
    "script adapted from https://github.com/MouseLand/cellpose/blob/master/notebooks/run_cellpose_GPU.ipynb\n",
    "\n",
    "author: heeva.baharlou@gmail.com (27/05/2023)"
   ]
  },
  {
   "cell_type": "code",
   "execution_count": 1,
   "id": "a6ff7206",
   "metadata": {
    "scrolled": true
   },
   "outputs": [],
   "source": [
    "# Import libraries\n",
    "import os\n",
    "import skimage.io\n",
    "from cellpose import models, core\n",
    "from cellpose.io import logger_setup"
   ]
  },
  {
   "cell_type": "markdown",
   "id": "d85b4306",
   "metadata": {},
   "source": [
    "Define your CellPose and any associated variables here:"
   ]
  },
  {
   "cell_type": "code",
   "execution_count": 3,
   "id": "2292572b",
   "metadata": {},
   "outputs": [
    {
     "name": "stderr",
     "output_type": "stream",
     "text": [
      "100%|██████████| 25.3M/25.3M [00:30<00:00, 884kB/s] \n",
      "100%|██████████| 3.54k/3.54k [00:00<00:00, 3.65MB/s]\n"
     ]
    }
   ],
   "source": [
    "# If using an IN-BUILT model, change the 'inbuilt_model' variable to the model name - otherwise, set to 'None'\n",
    "inbuilt_model = \"cyto3\"\n",
    "if inbuilt_model is not None:\n",
    "    model = models.Cellpose(gpu=core.use_gpu(), model_type=inbuilt_model)\n",
    "\n",
    "# If using a CUSTOM model, change the 'model_path' variable to the directory containing the model - otherwise, set to 'None'\n",
    "custom_model_path = None\n",
    "if custom_model_path is not None:\n",
    "    model = models.CellposeModel(gpu=core.use_gpu(), pretrained_model=custom_model_path)\n",
    "\n",
    "# Define any other variables you set when running your model\n",
    "cell_diameter = 12.4\n",
    "flow_threshold = 3\n",
    "cellprob_threshold = -6\n",
    "channels = [2, 1] # This means Channel 1 was G and Channel 2 was R (1 = R, 2 = G, 3 = B)"
   ]
  },
  {
   "cell_type": "markdown",
   "id": "87480c9f",
   "metadata": {},
   "source": [
    "Run the batch segmentation:"
   ]
  },
  {
   "cell_type": "code",
   "execution_count": 4,
   "id": "a420cff4",
   "metadata": {},
   "outputs": [
    {
     "name": "stdout",
     "output_type": "stream",
     "text": [
      "2024-04-04 10:51:06,546 [INFO] WRITING LOG OUTPUT TO C:\\Users\\oscar\\.cellpose\\run.log\n",
      "2024-04-04 10:51:06,547 [INFO] \n",
      "cellpose version: \t3.0.7 \n",
      "platform:       \twin32 \n",
      "python version: \t3.9.18 \n",
      "torch version:  \t1.8.2\n",
      "2024-04-04 10:51:06,572 [INFO] channels set to [2, 1]\n",
      "2024-04-04 10:51:06,573 [INFO] ~~~ FINDING MASKS ~~~\n",
      "2024-04-04 10:51:06,574 [INFO] 0%|          | 0/9 [00:00<?, ?it/s]\n",
      "2024-04-04 10:51:37,018 [INFO] 22%|##2       | 2/9 [00:30<01:46, 15.22s/it]\n",
      "2024-04-04 10:51:49,530 [INFO] 22%|##2       | 2/9 [00:42<01:46, 15.22s/it]\n",
      "2024-04-04 10:52:09,678 [INFO] 56%|#####5    | 5/9 [01:03<00:49, 12.27s/it]\n",
      "2024-04-04 10:52:29,577 [INFO] 56%|#####5    | 5/9 [01:23<00:49, 12.27s/it]\n",
      "2024-04-04 10:52:49,562 [INFO] 78%|#######7  | 7/9 [01:42<00:30, 15.29s/it]\n",
      "2024-04-04 10:52:59,593 [INFO] 78%|#######7  | 7/9 [01:53<00:30, 15.29s/it]\n",
      "2024-04-04 10:53:20,861 [INFO] 89%|########8 | 8/9 [02:14<00:18, 18.80s/it]\n",
      "2024-04-04 10:53:30,643 [INFO] 100%|##########| 9/9 [02:24<00:00, 16.01s/it]\n",
      "2024-04-04 10:53:30,644 [INFO] >>>> TOTAL TIME 144.07 sec\n"
     ]
    },
    {
     "name": "stderr",
     "output_type": "stream",
     "text": [
      "C:\\Users\\oscar\\AppData\\Local\\Temp\\ipykernel_12932\\1220904177.py:18: UserWarning: analysis/segmentation_masks\\20230922 LN 146 IFNghighconc negprobelowconc panel 6_s0_a1_ac_segment_CpSeg_mask.tif is a low contrast image\n",
      "  skimage.io.imsave(file_name, mask)\n",
      "C:\\Users\\oscar\\AppData\\Local\\Temp\\ipykernel_12932\\1220904177.py:18: UserWarning: analysis/segmentation_masks\\20230922 LN 146 IFNghighconc negprobelowconc panel 6_s0_a2_ac_segment_CpSeg_mask.tif is a low contrast image\n",
      "  skimage.io.imsave(file_name, mask)\n",
      "C:\\Users\\oscar\\AppData\\Local\\Temp\\ipykernel_12932\\1220904177.py:18: UserWarning: analysis/segmentation_masks\\20230922 LN 146 posprobehighconc_noprobelowconc_mw_panel 6_s0_a1_ac_segment_CpSeg_mask.tif is a low contrast image\n",
      "  skimage.io.imsave(file_name, mask)\n",
      "C:\\Users\\oscar\\AppData\\Local\\Temp\\ipykernel_12932\\1220904177.py:18: UserWarning: analysis/segmentation_masks\\20230922 LN 146 posprobehighconc_noprobelowconc_mw_panel 6_s0_a2_ac_segment_CpSeg_mask.tif is a low contrast image\n",
      "  skimage.io.imsave(file_name, mask)\n",
      "C:\\Users\\oscar\\AppData\\Local\\Temp\\ipykernel_12932\\1220904177.py:18: UserWarning: analysis/segmentation_masks\\20230922 LN 146 posprobehighconc_noprobelowconc_PC_panel 6_s0_a1_ac_segment_CpSeg_mask.tif is a low contrast image\n",
      "  skimage.io.imsave(file_name, mask)\n",
      "C:\\Users\\oscar\\AppData\\Local\\Temp\\ipykernel_12932\\1220904177.py:18: UserWarning: analysis/segmentation_masks\\20230922 LN 146 posprobehighconc_noprobelowconc_PC_panel 6_s0_a2_ac_segment_CpSeg_mask.tif is a low contrast image\n",
      "  skimage.io.imsave(file_name, mask)\n",
      "C:\\Users\\oscar\\AppData\\Local\\Temp\\ipykernel_12932\\1220904177.py:18: UserWarning: analysis/segmentation_masks\\20230922 LN 70 panel 7_s0_a3_ac_segment_CpSeg_mask.tif is a low contrast image\n",
      "  skimage.io.imsave(file_name, mask)\n"
     ]
    }
   ],
   "source": [
    "# Set and create directories\n",
    "image_dir = \"analysis/cellpose\"\n",
    "mask_dir = \"analysis/segmentation_masks\"\n",
    "os.makedirs(mask_dir, exist_ok=True)\n",
    "# Call logger_setup to have output of cellpose written\n",
    "logger_setup()\n",
    "# Get list of image files\n",
    "files = [os.path.join(image_dir, f) for f in os.listdir(image_dir) if f.endswith(\".tif\")]  # Adjust the file extension if necessary\n",
    "imgs = [skimage.io.imread(f) for f in files]\n",
    "# Run segmentation\n",
    "masks, flows, styles, diams = model.eval(imgs, diameter=cell_diameter, flow_threshold=flow_threshold, cellprob_threshold=cellprob_threshold, channels=channels)\n",
    "# Save mask images\n",
    "for idx, mask in enumerate(masks):\n",
    "    # Create a new file name by replacing the old directory with the new one\n",
    "    file_name = files[idx].replace(image_dir, mask_dir)\n",
    "    # Add a suffix to indicate it's a mask\n",
    "    file_name = os.path.splitext(file_name)[0] + \"_mask.tif\"\n",
    "    skimage.io.imsave(file_name, mask)"
   ]
  },
  {
   "cell_type": "markdown",
   "id": "8d68d651",
   "metadata": {},
   "source": [
    "Move selected images to a new 'for_cellprofiler' directory for use in CellProfiler later on:"
   ]
  },
  {
   "cell_type": "code",
   "execution_count": 1,
   "id": "56d826ac",
   "metadata": {},
   "outputs": [],
   "source": [
    "# Import libraries\n",
    "import shutil\n",
    "from pathlib import Path\n",
    "\n",
    "# Create 'for_cellprofiler' directory \n",
    "full_path = Path(\"analysis/full_images\")\n",
    "mask_path = Path(\"analysis/segmentation_masks\")\n",
    "dest_path = Path(\"analysis/for_cellprofiler\")\n",
    "dest_path.mkdir(exist_ok=True)\n",
    "cellp_out = Path(\"analysis/CellProfilerOutput\")\n",
    "cellp_out.mkdir(exist_ok=True)\n",
    "# Copy relevant images to new directory\n",
    "for file in (list(full_path.glob(\"*.tiff\")) + list(mask_path.glob(\"*.tif\"))):\n",
    "    shutil.copy(file, dest_path)"
   ]
  }
 ],
 "metadata": {
  "kernelspec": {
   "display_name": "Python 3 (ipykernel)",
   "language": "python",
   "name": "python3"
  },
  "language_info": {
   "codemirror_mode": {
    "name": "ipython",
    "version": 3
   },
   "file_extension": ".py",
   "mimetype": "text/x-python",
   "name": "python",
   "nbconvert_exporter": "python",
   "pygments_lexer": "ipython3",
   "version": "3.10.9"
  }
 },
 "nbformat": 4,
 "nbformat_minor": 5
}
