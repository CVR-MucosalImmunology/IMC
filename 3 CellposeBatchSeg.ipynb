{
 "cells": [
  {
   "cell_type": "markdown",
   "id": "28715985",
   "metadata": {},
   "source": [
    "# Cellpose Batch Segmentation\n",
    "\n",
    "### **Authors:** oscardong4@gmail.com and heeva.baharlou@gmail.com (29/04/2024) - script adapted from [here](https://github.com/MouseLand/cellpose/blob/master/notebooks/run_cellpose_GPU.ipynb)\n",
    "\n",
    "## Set your variables\n",
    "\n",
    "In the code chunk below, alter the following variables:\n",
    "- **model_path**: path to your custom model\n",
    "- **analysis_dir**: path to your `analysis` folder\n",
    "- **channels**: colour channels used for segmentation\n",
    "- **cell_diameter**, **flow_threshold**, **cellprob_threshold**: other settings used when training your custom model\n",
    "\n",
    "Remember to **run** the code chunk after setting the variables above. "
   ]
  },
  {
   "cell_type": "code",
   "execution_count": null,
   "id": "3ec85db6",
   "metadata": {},
   "outputs": [],
   "source": [
    "# Set your required variables here\n",
    "model_path = \"IFMasksOnIMCModel_HumanColon_TN3_CD12_FT1\"\n",
    "analysis_dir = \"\"\n",
    "channels = [2, 3] # This means Channel 1 was 'Green' and Channel 2 was 'Blue' (1 = R, 2 = G, 3 = B)\n",
    "cell_diameter = 12.4\n",
    "flow_threshold = 3\n",
    "cellprob_threshold = -6"
   ]
  },
  {
   "cell_type": "markdown",
   "id": "b6fa50c5",
   "metadata": {},
   "source": [
    "## Run the rest of the code\n",
    "Start the batch segmentation by running the code chunk below. After running, you will notice **3 new** folders created in your `analysis` folder:\n",
    "1. `3a_segmentation_masks`: contains the integer-labelled cell segmentation masks (1 for each image)\n",
    "2. `3b_for_cellprofiler`: contains the segmentation masks **and** corresponding full stack images for use in CellProfiler\n",
    "3. `5_cellprofiler_output`: an empty folder that will contain the output from CellProfiler \n",
    "\n",
    "After you see the message **'Done!'** printed, you can move to the next step on the GitHub page. "
   ]
  },
  {
   "cell_type": "code",
   "execution_count": 1,
   "id": "a6ff7206",
   "metadata": {
    "scrolled": true
   },
   "outputs": [],
   "source": [
    "# Import libraries\n",
    "import os\n",
    "import skimage.io\n",
    "from cellpose import models, core\n",
    "from cellpose.io import logger_setup\n",
    "import shutil\n",
    "from pathlib import Path\n",
    "\n",
    "# Define Cellpose model\n",
    "model = models.CellposeModel(gpu=core.use_gpu(), pretrained_model=model_path)\n",
    "# Set and create directories\n",
    "analysis = Path(analysis_dir)\n",
    "image_dir = analysis / \"2a_cellpose_full\"\n",
    "mask_dir = analysis / \"3a_segmentation_masks\"\n",
    "os.makedirs(mask_dir, exist_ok=True)\n",
    "# Call logger_setup to have output of cellpose written\n",
    "logger_setup()\n",
    "# Get list of image files\n",
    "files = [os.path.join(image_dir, f) for f in os.listdir(image_dir) if f.endswith(\".tif\")]  # Adjust the file extension if necessary\n",
    "imgs = [skimage.io.imread(f) for f in files]\n",
    "# Run segmentation\n",
    "masks, flows, styles = model.eval(imgs, diameter=cell_diameter, flow_threshold=flow_threshold, cellprob_threshold=cellprob_threshold, channels=channels)\n",
    "# Save mask images\n",
    "for idx, mask in enumerate(masks):\n",
    "    # Create a new file name by replacing the old directory with the new one\n",
    "    file_name = files[idx].replace(\"cellpose\", \"segmentation_masks\")\n",
    "    # Add a suffix to indicate it's a mask\n",
    "    file_name = os.path.splitext(file_name)[0] + \"_mask.tif\"\n",
    "    skimage.io.imsave(file_name, mask)\n",
    "\n",
    "# Create 'for_cellprofiler' directory \n",
    "full_path = analysis / \"1c_full_images\"\n",
    "mask_path = analysis / \"3a_segmentation_masks\"\n",
    "dest_path = analysis / \"3b_for_cellprofiler\"\n",
    "dest_path.mkdir(exist_ok=True)\n",
    "cellp_out = analysis / \"5_cellprofiler_output\"\n",
    "cellp_out.mkdir(exist_ok=True)\n",
    "# Copy relevant images to new directory\n",
    "for file in (list(full_path.glob(\"*.tiff\")) + list(mask_path.glob(\"*.tif\"))):\n",
    "    shutil.copy(file, dest_path)\n",
    "\n",
    "print(\"Done!\")"
   ]
  }
 ],
 "metadata": {
  "kernelspec": {
   "display_name": "Python 3 (ipykernel)",
   "language": "python",
   "name": "python3"
  },
  "language_info": {
   "codemirror_mode": {
    "name": "ipython",
    "version": 3
   },
   "file_extension": ".py",
   "mimetype": "text/x-python",
   "name": "python",
   "nbconvert_exporter": "python",
   "pygments_lexer": "ipython3",
   "version": "3.10.9"
  }
 },
 "nbformat": 4,
 "nbformat_minor": 5
}
